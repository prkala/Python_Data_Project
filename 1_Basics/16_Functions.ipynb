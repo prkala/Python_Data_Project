{
  "nbformat": 4,
  "nbformat_minor": 0,
  "metadata": {
    "colab": {
      "provenance": []
    },
    "kernelspec": {
      "name": "python3",
      "display_name": "Python 3"
    },
    "language_info": {
      "name": "python"
    }
  },
  "cells": [
    {
      "cell_type": "markdown",
      "source": [
        "## Built-in Functions"
      ],
      "metadata": {
        "id": "4jpbX7lPhiuQ"
      }
    },
    {
      "cell_type": "code",
      "execution_count": 2,
      "metadata": {
        "id": "9A2dvYtohJw_"
      },
      "outputs": [],
      "source": [
        "skill_list = ['Python','SQL','Excel']"
      ]
    },
    {
      "cell_type": "code",
      "source": [
        "len(skill_list)"
      ],
      "metadata": {
        "colab": {
          "base_uri": "https://localhost:8080/"
        },
        "id": "ASMxYeQXhPJv",
        "outputId": "c2124b5a-d818-4418-ec95-476df6c37108"
      },
      "execution_count": 3,
      "outputs": [
        {
          "output_type": "execute_result",
          "data": {
            "text/plain": [
              "3"
            ]
          },
          "metadata": {},
          "execution_count": 3
        }
      ]
    },
    {
      "cell_type": "code",
      "source": [
        "data_salaries = [100000, 95000, 85000, 97000, 140000]\n",
        "min(data_salaries)"
      ],
      "metadata": {
        "colab": {
          "base_uri": "https://localhost:8080/"
        },
        "id": "CYtWG3jchSEU",
        "outputId": "19b48768-65cf-4c3f-d4a7-228dd1ecbc9b"
      },
      "execution_count": 4,
      "outputs": [
        {
          "output_type": "execute_result",
          "data": {
            "text/plain": [
              "85000"
            ]
          },
          "metadata": {},
          "execution_count": 4
        }
      ]
    },
    {
      "cell_type": "code",
      "source": [
        "sum(data_salaries)"
      ],
      "metadata": {
        "colab": {
          "base_uri": "https://localhost:8080/"
        },
        "id": "1v9ucRbrlTds",
        "outputId": "73b024da-a62b-4b47-9e23-9e30e0ae535b"
      },
      "execution_count": 5,
      "outputs": [
        {
          "output_type": "execute_result",
          "data": {
            "text/plain": [
              "517000"
            ]
          },
          "metadata": {},
          "execution_count": 5
        }
      ]
    },
    {
      "cell_type": "code",
      "source": [
        "sorted(data_salaries)"
      ],
      "metadata": {
        "colab": {
          "base_uri": "https://localhost:8080/"
        },
        "id": "F4RtMBMolVhQ",
        "outputId": "be724529-c4ef-40c3-d62c-02e180548377"
      },
      "execution_count": 6,
      "outputs": [
        {
          "output_type": "execute_result",
          "data": {
            "text/plain": [
              "[85000, 95000, 97000, 100000, 140000]"
            ]
          },
          "metadata": {},
          "execution_count": 6
        }
      ]
    },
    {
      "cell_type": "markdown",
      "source": [
        "## User Defined Functions"
      ],
      "metadata": {
        "id": "EqWuyRyrla5T"
      }
    },
    {
      "cell_type": "code",
      "source": [
        "base_sal = 100000\n",
        "bonus_rate = 0.1"
      ],
      "metadata": {
        "id": "xjPeE9vzlYSL"
      },
      "execution_count": 7,
      "outputs": []
    },
    {
      "cell_type": "code",
      "source": [
        "def calculate_sal(sal, br = 0.1):\n",
        "    total_sal = sal * (1 + br)\n",
        "    return total_sal"
      ],
      "metadata": {
        "id": "6oIgSvCUldCx"
      },
      "execution_count": 8,
      "outputs": []
    },
    {
      "cell_type": "code",
      "source": [
        "calculate_sal(20000)"
      ],
      "metadata": {
        "colab": {
          "base_uri": "https://localhost:8080/"
        },
        "id": "c4SdsSPpl3Hn",
        "outputId": "33c7d515-c3bc-4a9c-fecc-7b62571a8765"
      },
      "execution_count": 9,
      "outputs": [
        {
          "output_type": "execute_result",
          "data": {
            "text/plain": [
              "22000.0"
            ]
          },
          "metadata": {},
          "execution_count": 9
        }
      ]
    },
    {
      "cell_type": "code",
      "source": [],
      "metadata": {
        "id": "pHhpjifImHUg"
      },
      "execution_count": 9,
      "outputs": []
    }
  ]
}